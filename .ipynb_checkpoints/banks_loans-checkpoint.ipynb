{
 "cells": [
  {
   "cell_type": "code",
   "execution_count": 1,
   "id": "a495113f-f56d-4690-b62d-1f10b812952c",
   "metadata": {},
   "outputs": [
    {
     "name": "stdout",
     "output_type": "stream",
     "text": [
      "Connected to SQL Server\n"
     ]
    }
   ],
   "source": [
    "import pandas as pd\n",
    "import numpy as np\n",
    "import pyodbc\n",
    "import seaborn as sns\n",
    "import matplotlib.pyplot as plt\n",
    "\n",
    "\n",
    "df=pd.read_csv('bank_marketing.csv')\n",
    "\n",
    "# splittng the datatable to three relevant tables \n",
    "client=df[['client_id', 'age', 'job', 'marital','education', 'credit_default',\n",
    "       'housing','loan']].copy()\n",
    "campaign=df[['client_id','campaign','duration','pdays','previous','poutcome','y']].copy()\n",
    "\n",
    "economics=df[['client_id','emp_var_rate','cons_price_idx','euribor3m','nr_employed']].copy()\n",
    "\n",
    "\n",
    "#  replacing the columns name with better names \n",
    "campaign.loc['campaign_id'] = 1\n",
    "column_rename_client = {'client_id': 'id'}\n",
    "column_rename_campaign= {'duration': 'contact_duration', 'previous': 'previous_campaign_contacts', 'y': 'campaign_outcome', 'poutcome': 'previous_outcome', 'campaign': 'number_contacts'}\n",
    "column_rename_economics = {'euribor3m': 'euribor_three_months','nr_employed': 'number_employed'}\n",
    "\n",
    "client.rename(columns=column_rename_client, inplace=True)\n",
    "campaign.rename(columns=column_rename_campaign, inplace=True)\n",
    "economics.rename(columns=column_rename_economics, inplace=True)\n",
    "\n",
    "\n",
    "#  cleaning data\n",
    "client['education'] = client['education'].str.replace('.','_', regex=False) #replace . with _\n",
    "client['education'] = client['education'].replace('unknown',np.nan, regex=False)\n",
    "client['job'] = client['job'].str.replace('.', '', regex=False)\n",
    "\n",
    "outcomes_replace={'success':'1','failure':'0','nonexistent':np.nan }\n",
    "campaign['previous_outcome'] = campaign['previous_outcome'].replace(outcomes_replace)\n",
    "\n",
    "#  improving the date column  by converting to the datetime format \n",
    "df['year']='2022'\n",
    "month_mapping = {'jan': 1, 'feb': 2, 'mar': 3, 'apr': 4, 'may': 5, 'jun': 6,\n",
    "                 'jul': 7, 'aug': 8, 'sep': 9, 'oct': 10, 'nov': 11, 'dec': 12}\n",
    "\n",
    "df['month'] = df['month'].map(month_mapping)\n",
    "campaign['last_contact_date'] =pd.to_datetime(df[['year', 'month','day']]).dt.strftime('%Y-%m-%d')\n",
    "\n",
    "\n",
    "\n",
    "#this was done to complete the connection with sql database managment \n",
    "# replacing nan values with 2 as they not affect the analysis results \n",
    "campaign.previous_outcome.fillna(2, inplace=True)\n",
    "campaign.drop(campaign.index[-1], inplace=True)\n",
    "\n",
    "# conver to csv files\n",
    "client.to_csv('client.csv', index=False)\n",
    "campaign.to_csv('campaign.csv', index=False)\n",
    "economics.to_csv('economics.csv', index=False)\n",
    "\n",
    "\n",
    "# Define connection parameters\n",
    "server = 'HUNTER\\SQLEXPRESS'\n",
    "database = 'banks_database'\n",
    "\n",
    "\n",
    "                                    ################# connectoin to sql server###########\n",
    "# Create a connection string\n",
    "connection_string = (\n",
    "    f\"DRIVER={{ODBC Driver 17 for SQL Server}};\"\n",
    "    f\"SERVER={server};\"\n",
    "    f\"DATABASE={database};\"\n",
    "    f\"Trusted_Connection=yes;\"\n",
    "   \n",
    ")\n",
    "\n",
    "# Establish a connection\n",
    "try:\n",
    "    conn = pyodbc.connect(connection_string)\n",
    "    print(\"Connected to SQL Server\")\n",
    "except Exception as e:\n",
    "    print(f\"Error: {str(e)}\")\n",
    "\n",
    "\n",
    "\n",
    "\n",
    "\n"
   ]
  },
  {
   "cell_type": "code",
   "execution_count": 2,
   "id": "6ca298d2-4d4a-4379-91b8-b14bd245e490",
   "metadata": {},
   "outputs": [
    {
     "name": "stdout",
     "output_type": "stream",
     "text": [
      "Tables 'client' and 'campaign' vs economics created successfully.\n"
     ]
    }
   ],
   "source": [
    "\n",
    "# SQL statements for table creation\n",
    "client_table_sql = \"\"\"\n",
    "CREATE TABLE client\n",
    "(\n",
    "    id  INT PRIMARY KEY,\n",
    "    age INT,\n",
    "    job NVARCHAR(255),\n",
    "    marital NVARCHAR(255),\n",
    "    education NVARCHAR(255),\n",
    "    credit_default NVARCHAR(255),\n",
    "    housing NVARCHAR(255),\n",
    "    loan NVARCHAR(255)\n",
    ");\n",
    "\"\"\"\n",
    "campaign_table_sql = \"\"\"\n",
    "CREATE TABLE campaign (\n",
    "    campaign_id INT IDENTITY(1,1) PRIMARY KEY,\n",
    "    client_id INT,\n",
    "    number_contacts INT,\n",
    "    contact_duration INT,\n",
    "    pdays INT,\n",
    "    previous_campaign_contacts INT,\n",
    "    previous_outcome INT ,  \n",
    "    campaign_outcome BIT,\n",
    "    last_contact_date DATE\n",
    ");\n",
    "\"\"\"\n",
    "\n",
    "economics_table_sql = \"\"\"\n",
    "CREATE TABLE economics (\n",
    "    client_id INT REFERENCES client (id),\n",
    "    emp_var_rate FLOAT,\n",
    "    cons_price_idx FLOAT,\n",
    "    euribor_three_months FLOAT,\n",
    "    number_employed FLOAT\n",
    ");\n",
    "\"\"\"\n",
    "\n",
    "\n",
    "try:\n",
    "    cursor = conn.cursor()\n",
    "    \n",
    "    # once you create the tables, no need to run and execute this again      \n",
    "    # Execute the CREATE TABLE statements\n",
    "    \n",
    "    # cursor.execute(client_table_sql)\n",
    "    # cursor.execute(campaign_table_sql)\n",
    "    # cursor.execute(economics_table_sql)\n",
    "    \n",
    "    print(\"Tables 'client' and 'campaign' vs economics created successfully.\")\n",
    "    \n",
    "    # Commit the table creation transactions\n",
    "    conn.commit()\n",
    "    \n",
    "except Exception as e:\n",
    "    print(f\"Error: {str(e)}\")   \n",
    "\n"
   ]
  },
  {
   "cell_type": "code",
   "execution_count": 3,
   "id": "8d046282-ac7d-4710-8aa6-7df7dcc17068",
   "metadata": {},
   "outputs": [
    {
     "name": "stdout",
     "output_type": "stream",
     "text": [
      "Data copied from csv files to sql tables\n"
     ]
    }
   ],
   "source": [
    "# Execute the SQL statements\n",
    "try:\n",
    "    cursor = conn.cursor()\n",
    "    \n",
    "    # Now, copy data from 'client.csv' and 'campaign.csv'\n",
    "    copy_data_sql = \"\"\"\n",
    "    BULK INSERT client\n",
    "    FROM 'C:/Users/moham/OneDrive/Desktop/for_now/client.csv'\n",
    "    WITH (\n",
    "        FORMAT = 'CSV',\n",
    "        FIRSTROW = 2,  -- Skip the header row\n",
    "        FIELDTERMINATOR = ',',\n",
    "        ROWTERMINATOR = '\\n'\n",
    "    );\n",
    "    \"\"\"\n",
    "    \n",
    "    \n",
    "    \n",
    "    copy_data_sql1 = \"\"\"\n",
    "    BULK INSERT campaign\n",
    "    FROM 'C:/Users/moham/OneDrive/Desktop/for_now/campaign.csv'\n",
    "    WITH (\n",
    "        FORMAT = 'CSV',\n",
    "        FIRSTROW = 2,  -- Skip the header row\n",
    "        FIELDTERMINATOR = ',',\n",
    "        ROWTERMINATOR = '0x0a'\n",
    "    );\n",
    "    \"\"\"\n",
    "    \n",
    "    \n",
    "    \n",
    "    copy_econimcs_data = \"\"\"\n",
    "    BULK INSERT economics\n",
    "    FROM 'C:/Users/moham/OneDrive/Desktop/for_now/economics.csv'\n",
    "    WITH (\n",
    "        FORMAT = 'CSV',\n",
    "        FIRSTROW = 2,  -- Skip the header row\n",
    "        FIELDTERMINATOR = ',',\n",
    "        ROWTERMINATOR = '0x0a'\n",
    "    );\n",
    "    \"\"\"\n",
    "    \n",
    "#     cope the data just one time\n",
    "# no need to copy the same data every time code run\n",
    "    # Execute the data copy statements\n",
    "    # cursor.execute(copy_data_sql)\n",
    "    # cursor.execute(copy_data_sql1)\n",
    "    # cursor.execute(copy_econimcs_data)\n",
    "    \n",
    "    print(\"Data copied from csv files to sql tables\")\n",
    "    \n",
    "    \n",
    "    # Commit the transaction again\n",
    "    conn.commit()\n",
    "    \n",
    "except Exception as e:\n",
    "    print(f\"Error: {str(e)}\")\n",
    "\n",
    "# Close the connection\n",
    "conn.close()\n",
    "\n",
    "\n",
    "\n",
    "\n",
    "    \n",
    "\n",
    "\n",
    "\n",
    "\n"
   ]
  },
  {
   "cell_type": "code",
   "execution_count": 4,
   "id": "deec9547-0e3c-462f-b7e8-a9e54a64c2de",
   "metadata": {},
   "outputs": [
    {
     "name": "stdout",
     "output_type": "stream",
     "text": [
      "the number of nan values in education coulmn is 0\n"
     ]
    },
    {
     "data": {
      "text/plain": [
       "array(['basic_4y', 'high_school', 'basic_6y', 'basic_9y',\n",
       "       'professional_course', 'university_degree', 'illiterate'],\n",
       "      dtype=object)"
      ]
     },
     "execution_count": 4,
     "metadata": {},
     "output_type": "execute_result"
    }
   ],
   "source": [
    "# dropping nulls from education column\n",
    "\n",
    "client.dropna(subset=['education'], inplace=True)\n",
    "print(f\"the number of nan values in education coulmn is {client.education.isna().sum()}\")\n",
    "client.education.unique()"
   ]
  },
  {
   "cell_type": "code",
   "execution_count": 14,
   "id": "3586a3cd-b35d-46f5-a664-4b32b706aed3",
   "metadata": {},
   "outputs": [
    {
     "data": {
      "image/png": "[encoded data removed]",
      "text/plain": [
       "<Figure size 936x432 with 1 Axes>"
      ]
     },
     "metadata": {
      "needs_background": "light"
     },
     "output_type": "display_data"
    },
    {
     "data": {
      "image/png": "[encoded data removed]",
      "text/plain": [
       "<Figure size 936x432 with 1 Axes>"
      ]
     },
     "metadata": {
      "needs_background": "light"
     },
     "output_type": "display_data"
    }
   ],
   "source": [
    "# is there any diffrence in taking loans between poeple with high education and people without it \n",
    "\n",
    "with_loan_df= client[client['loan']=='yes']\n",
    "without_loan_df= client[client['loan']=='no']\n",
    "\n",
    "\n",
    "plt.figure(figsize=(13, 6))\n",
    "plt.title('without loan')\n",
    "sns.countplot(data=without_loan_df, x='education',order=without_loan_df['education'].value_counts().index)\n",
    "plt.show()\n",
    "\n",
    "plt.figure(figsize=(13, 6))\n",
    "plt.title('with loan')\n",
    "sns.countplot(data=with_loan_df, x='education', order=with_loan_df['education'].value_counts().index)\n",
    "plt.show()\n"
   ]
  },
  {
   "cell_type": "code",
   "execution_count": 5,
   "id": "c5d369f3-8894-4d79-9240-870e81579cde",
   "metadata": {
    "scrolled": true
   },
   "outputs": [
    {
     "name": "stdout",
     "output_type": "stream",
     "text": [
      "with loan\n",
      "university_degree      1930\n",
      "high_school            1443\n",
      "basic_9y                883\n",
      "professional_course     793\n",
      "basic_4y                624\n",
      "basic_6y                330\n",
      "illiterate                3\n",
      "Name: education, dtype: int64\n",
      "without\n",
      "university_degree      9961\n",
      "high_school            7852\n",
      "basic_9y               5011\n",
      "professional_course    4325\n",
      "basic_4y               3435\n",
      "basic_6y               1902\n",
      "illiterate               15\n",
      "Name: education, dtype: int64\n"
     ]
    }
   ],
   "source": [
    "print('with loan')\n",
    "print(with_loan_df.education.value_counts())\n",
    "print('without')\n",
    "print(without_loan_df.education.value_counts())"
   ]
  },
  {
   "cell_type": "code",
   "execution_count": 31,
   "id": "778f5ff0",
   "metadata": {},
   "outputs": [
    {
     "name": "stdout",
     "output_type": "stream",
     "text": [
      "          id  age           job   marital            education credit_default  \\\n",
      "75        75   41   blue-collar  divorced             basic_4y        unknown   \n",
      "83        83   49  entrepreneur   married    university_degree        unknown   \n",
      "88        88   49    technician   married             basic_9y             no   \n",
      "129      129   41    technician   married  professional_course        unknown   \n",
      "139      139   45   blue-collar   married             basic_9y        unknown   \n",
      "...      ...  ...           ...       ...                  ...            ...   \n",
      "41174  41174   62       retired   married    university_degree             no   \n",
      "41178  41178   62       retired   married    university_degree             no   \n",
      "41181  41181   37         admin   married    university_degree             no   \n",
      "41183  41183   73       retired   married  professional_course             no   \n",
      "41186  41186   44    technician   married  professional_course             no   \n",
      "\n",
      "      housing loan  \n",
      "75        yes   no  \n",
      "83        yes   no  \n",
      "88         no   no  \n",
      "129       yes   no  \n",
      "139       yes   no  \n",
      "...       ...  ...  \n",
      "41174     yes   no  \n",
      "41178      no   no  \n",
      "41181     yes   no  \n",
      "41183     yes   no  \n",
      "41186      no   no  \n",
      "\n",
      "[4640 rows x 8 columns]\n"
     ]
    },
    {
     "data": {
      "text/plain": [
       "4640"
      ]
     },
     "execution_count": 31,
     "metadata": {},
     "output_type": "execute_result"
    }
   ],
   "source": [
    "                                         ##working just with the clients who participated in the campaign## \n",
    "\n",
    "\n",
    "participate_id = campaign[campaign['campaign_outcome'] == 'yes']['client_id']\n",
    "\n",
    "# Corrected the variable name in the next line\n",
    "participate_client = client[client['id'].isin(participate_id)]\n",
    "\n",
    "# Display the result\n",
    "print(participate_client)\n"
   ]
  }
 ],
 "metadata": {
  "kernelspec": {
   "display_name": "Python 3 (ipykernel)",
   "language": "python",
   "name": "python3"
  },
  "language_info": {
   "codemirror_mode": {
    "name": "ipython",
    "version": 3
   },
   "file_extension": ".py",
   "mimetype": "text/x-python",
   "name": "python",
   "nbconvert_exporter": "python",
   "pygments_lexer": "ipython3",
   "version": "3.9.7"
  }
 },
 "nbformat": 4,
 "nbformat_minor": 5
}
